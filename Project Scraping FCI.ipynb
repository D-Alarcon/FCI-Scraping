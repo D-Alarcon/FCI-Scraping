{
 "cells": [
  {
   "cell_type": "code",
   "execution_count": 1,
   "id": "3e95ed52",
   "metadata": {},
   "outputs": [],
   "source": [
    "from bs4 import BeautifulSoup as bs\n",
    "import requests \n",
    "import pandas as pd\n",
    "import re"
   ]
  },
  {
   "cell_type": "code",
   "execution_count": 2,
   "id": "4baf20c0",
   "metadata": {},
   "outputs": [],
   "source": [
    "raw = requests.get(\"https://www.fci.be/en/statistics/\")\n",
    "web = bs(raw.text, \"html.parser\")\n"
   ]
  },
  {
   "cell_type": "code",
   "execution_count": 3,
   "id": "474788f9",
   "metadata": {},
   "outputs": [],
   "source": [
    "submenu = web.find('div', {'class':'submenu'})\n",
    "\n",
    "links = []\n",
    "for i in submenu.find_all('a')[2:10]:\n",
    "    links.append(\"https://www.fci.be/en/statistics/\" + i['href'])"
   ]
  },
  {
   "cell_type": "code",
   "execution_count": 4,
   "id": "fa5e38b6",
   "metadata": {},
   "outputs": [
    {
     "data": {
      "text/plain": [
       "['https://www.fci.be/en/statistics/ByYear.aspx?year=2021',\n",
       " 'https://www.fci.be/en/statistics/ByYear.aspx?year=2020',\n",
       " 'https://www.fci.be/en/statistics/ByYear.aspx?year=2019',\n",
       " 'https://www.fci.be/en/statistics/ByYear.aspx?year=2018',\n",
       " 'https://www.fci.be/en/statistics/ByYear.aspx?year=2017',\n",
       " 'https://www.fci.be/en/statistics/ByYear.aspx?year=2016',\n",
       " 'https://www.fci.be/en/statistics/ByYear.aspx?year=2015',\n",
       " 'https://www.fci.be/en/statistics/ByYear.aspx?year=2014']"
      ]
     },
     "execution_count": 4,
     "metadata": {},
     "output_type": "execute_result"
    }
   ],
   "source": [
    "links"
   ]
  },
  {
   "cell_type": "code",
   "execution_count": 12,
   "id": "a5f52313",
   "metadata": {},
   "outputs": [],
   "source": [
    "dfs = []\n",
    "years = []"
   ]
  },
  {
   "cell_type": "code",
   "execution_count": 13,
   "id": "7439e2d7",
   "metadata": {},
   "outputs": [],
   "source": [
    "for i in links:\n",
    "    r = requests.get(i)\n",
    "    soup = bs(r.text, 'html.parser')\n",
    "    year_title = soup.find('h1').text.strip()\n",
    "    year = re.search('\\d{4}', year_title).group()\n",
    "    years.append(year)\n",
    "    \n",
    "    headers = []\n",
    "    table_header = soup.find('table', attrs={'class': \"header\"})\n",
    "    for i in table_header.find_all('td'):\n",
    "        headers.append(i.text.strip())\n",
    "    \n",
    "    table = soup.find('table', attrs={'id': 'ContentPlaceHolder1_StatistiquesGridView'})\n",
    "    table_rows = table.find_all('tr')\n",
    "    l = []\n",
    "    for tr in table_rows:\n",
    "        td = tr.find_all('td')\n",
    "        row = [tr.get_text(strip=True) for tr in td]\n",
    "        l.append(row)\n",
    "    df = pd.DataFrame(l, columns = headers)\n",
    "    df['year'] = year\n",
    "    dfs.append(df)\n",
    "    \n",
    "    "
   ]
  },
  {
   "cell_type": "code",
   "execution_count": 18,
   "id": "771fd723",
   "metadata": {},
   "outputs": [],
   "source": [
    "for i, j in zip(dfs, years):\n",
    "    i.to_csv(j + '.csv', index = False)"
   ]
  },
  {
   "cell_type": "code",
   "execution_count": 8,
   "id": "52d9628c",
   "metadata": {},
   "outputs": [
    {
     "data": {
      "text/plain": [
       "['2021', '2020', '2019', '2018', '2017', '2016', '2015', '2014']"
      ]
     },
     "execution_count": 8,
     "metadata": {},
     "output_type": "execute_result"
    }
   ],
   "source": [
    "years"
   ]
  },
  {
   "cell_type": "code",
   "execution_count": 19,
   "id": "2ee3cb72",
   "metadata": {},
   "outputs": [],
   "source": [
    "all_df = pd.concat(dfs)"
   ]
  },
  {
   "cell_type": "code",
   "execution_count": 22,
   "id": "8689b045",
   "metadata": {},
   "outputs": [],
   "source": [
    "all_df.to_csv('all_years.csv', index = False)"
   ]
  },
  {
   "cell_type": "markdown",
   "id": "139b4015",
   "metadata": {},
   "source": [
    "## Data Cleaning"
   ]
  },
  {
   "cell_type": "code",
   "execution_count": 60,
   "id": "6042886a",
   "metadata": {},
   "outputs": [
    {
     "data": {
      "text/plain": [
       "                                                                                  object\n",
       "PUPPIES registered with the studbook and the appendix                             object\n",
       "LITTERS registered with the studbook and the appendix                             object\n",
       "CAC ALL-BREED SHOWS                                                               object\n",
       "CACIB ALL-BREED SHOWS                                                             object\n",
       "FCI (breed, group, all-breed) JUDGES                                              object\n",
       "INDIVIDUAL MEMBERS (people)                                                       object\n",
       "member (breed, regional, sporting, etc.) CLUBS                                    object\n",
       "PURE-BRED DOGS REGISTERED WITH THE STUDBOOK                                       object\n",
       "TOTAL number of PURE-BRED DOGS REGISTERED WITH THE STUDBOOK since its creation    object\n",
       "Approximate TOTAL number of DOGS (PURE-BRED OR NOT)                               object\n",
       "Approximate TOTAL number of DOG OWNERS (PURE-BRED OR NOT)                         object\n",
       "year                                                                              object\n",
       "dtype: object"
      ]
     },
     "execution_count": 60,
     "metadata": {},
     "output_type": "execute_result"
    }
   ],
   "source": [
    "dfs[1].dtypes"
   ]
  },
  {
   "cell_type": "code",
   "execution_count": 61,
   "id": "b58240b4",
   "metadata": {},
   "outputs": [
    {
     "name": "stdout",
     "output_type": "stream",
     "text": [
      "<class 'pandas.core.frame.DataFrame'>\n",
      "RangeIndex: 100 entries, 0 to 99\n",
      "Data columns (total 13 columns):\n",
      " #   Column                                                                          Non-Null Count  Dtype \n",
      "---  ------                                                                          --------------  ----- \n",
      " 0                                                                                   100 non-null    object\n",
      " 1   PUPPIES registered with the studbook and the appendix                           100 non-null    object\n",
      " 2   LITTERS registered with the studbook and the appendix                           100 non-null    object\n",
      " 3   CAC ALL-BREED SHOWS                                                             100 non-null    object\n",
      " 4   CACIB ALL-BREED SHOWS                                                           100 non-null    object\n",
      " 5   FCI (breed, group, all-breed) JUDGES                                            100 non-null    object\n",
      " 6   INDIVIDUAL MEMBERS (people)                                                     100 non-null    object\n",
      " 7   member (breed, regional, sporting, etc.) CLUBS                                  100 non-null    object\n",
      " 8   PURE-BRED DOGS REGISTERED WITH THE STUDBOOK                                     100 non-null    object\n",
      " 9   TOTAL number of PURE-BRED DOGS REGISTERED WITH THE STUDBOOK since its creation  100 non-null    object\n",
      " 10  Approximate TOTAL number of DOGS (PURE-BRED OR NOT)                             100 non-null    object\n",
      " 11  Approximate TOTAL number of DOG OWNERS (PURE-BRED OR NOT)                       100 non-null    object\n",
      " 12  year                                                                            100 non-null    object\n",
      "dtypes: object(13)\n",
      "memory usage: 10.3+ KB\n"
     ]
    }
   ],
   "source": [
    "dfs[1].info()"
   ]
  },
  {
   "cell_type": "code",
   "execution_count": 66,
   "id": "251decc3",
   "metadata": {},
   "outputs": [],
   "source": [
    "new_df = dfs[1]"
   ]
  },
  {
   "cell_type": "code",
   "execution_count": 70,
   "id": "4f26c266",
   "metadata": {},
   "outputs": [
    {
     "data": {
      "text/plain": [
       "0     False\n",
       "1     False\n",
       "2     False\n",
       "3     False\n",
       "4     False\n",
       "      ...  \n",
       "95    False\n",
       "96    False\n",
       "97    False\n",
       "98    False\n",
       "99    False\n",
       "Name: PUPPIES registered with the studbook and the appendix, Length: 100, dtype: bool"
      ]
     },
     "execution_count": 70,
     "metadata": {},
     "output_type": "execute_result"
    }
   ],
   "source": [
    "new_df['PUPPIES registered with the studbook and the appendix'].isna()"
   ]
  },
  {
   "cell_type": "code",
   "execution_count": 71,
   "id": "cc942607",
   "metadata": {},
   "outputs": [
    {
     "data": {
      "text/plain": [
       "                                                                                  ALGERIA\n",
       "PUPPIES registered with the studbook and the appendix                                    \n",
       "LITTERS registered with the studbook and the appendix                                    \n",
       "CAC ALL-BREED SHOWS                                                                      \n",
       "CACIB ALL-BREED SHOWS                                                                    \n",
       "FCI (breed, group, all-breed) JUDGES                                                     \n",
       "INDIVIDUAL MEMBERS (people)                                                              \n",
       "member (breed, regional, sporting, etc.) CLUBS                                           \n",
       "PURE-BRED DOGS REGISTERED WITH THE STUDBOOK                                              \n",
       "TOTAL number of PURE-BRED DOGS REGISTERED WITH THE STUDBOOK since its creation           \n",
       "Approximate TOTAL number of DOGS (PURE-BRED OR NOT)                                      \n",
       "Approximate TOTAL number of DOG OWNERS (PURE-BRED OR NOT)                                \n",
       "year                                                                                 2020\n",
       "Name: 1, dtype: object"
      ]
     },
     "execution_count": 71,
     "metadata": {},
     "output_type": "execute_result"
    }
   ],
   "source": [
    "new_df.iloc[1]"
   ]
  },
  {
   "cell_type": "code",
   "execution_count": 72,
   "id": "69c68900",
   "metadata": {},
   "outputs": [
    {
     "name": "stdout",
     "output_type": "stream",
     "text": [
      "ALGERIA\n",
      "\n",
      "\n",
      "\n",
      "\n",
      "\n",
      "\n",
      "\n",
      "\n",
      "\n",
      "\n",
      "\n",
      "2020\n"
     ]
    }
   ],
   "source": [
    "for i in new_df.iloc[1]:\n",
    "    print(i)"
   ]
  },
  {
   "cell_type": "code",
   "execution_count": 77,
   "id": "275b60b5",
   "metadata": {},
   "outputs": [],
   "source": [
    "ll = new_df['PUPPIES registered with the studbook and the appendix'].str.strip()"
   ]
  },
  {
   "cell_type": "code",
   "execution_count": 79,
   "id": "c0191d7c",
   "metadata": {},
   "outputs": [
    {
     "data": {
      "text/plain": [
       "0     False\n",
       "1     False\n",
       "2     False\n",
       "3      True\n",
       "4      True\n",
       "      ...  \n",
       "95     True\n",
       "96     True\n",
       "97     True\n",
       "98    False\n",
       "99    False\n",
       "Name: PUPPIES registered with the studbook and the appendix, Length: 100, dtype: bool"
      ]
     },
     "execution_count": 79,
     "metadata": {},
     "output_type": "execute_result"
    }
   ],
   "source": [
    "ll.astype(bool)"
   ]
  },
  {
   "cell_type": "code",
   "execution_count": 83,
   "id": "b4dfd772",
   "metadata": {},
   "outputs": [
    {
     "data": {
      "text/plain": [
       "0     False\n",
       "1     False\n",
       "2     False\n",
       "3      True\n",
       "4     False\n",
       "      ...  \n",
       "95     True\n",
       "96    False\n",
       "97     True\n",
       "98    False\n",
       "99    False\n",
       "Name: PUPPIES registered with the studbook and the appendix, Length: 100, dtype: bool"
      ]
     },
     "execution_count": 83,
     "metadata": {},
     "output_type": "execute_result"
    }
   ],
   "source": [
    "ll.str.isdigit()"
   ]
  },
  {
   "cell_type": "code",
   "execution_count": null,
   "id": "1ee374e7",
   "metadata": {},
   "outputs": [],
   "source": []
  }
 ],
 "metadata": {
  "kernelspec": {
   "display_name": "Python 3 (ipykernel)",
   "language": "python",
   "name": "python3"
  },
  "language_info": {
   "codemirror_mode": {
    "name": "ipython",
    "version": 3
   },
   "file_extension": ".py",
   "mimetype": "text/x-python",
   "name": "python",
   "nbconvert_exporter": "python",
   "pygments_lexer": "ipython3",
   "version": "3.9.12"
  }
 },
 "nbformat": 4,
 "nbformat_minor": 5
}
